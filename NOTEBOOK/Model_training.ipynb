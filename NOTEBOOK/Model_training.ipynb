{
 "cells": [
  {
   "cell_type": "markdown",
   "id": "0e6ff6d5-1b19-4d29-b4a4-6a4fe292e47a",
   "metadata": {},
   "source": [
    "# Model Training"
   ]
  },
  {
   "cell_type": "markdown",
   "id": "1117ea3e-4010-43b3-9794-28417b43c619",
   "metadata": {},
   "source": [
    "### Importing required packages"
   ]
  },
  {
   "cell_type": "code",
   "execution_count": 1,
   "id": "1e151c98-b6ed-4f5a-a490-3df441322509",
   "metadata": {},
   "outputs": [],
   "source": [
    "# Basic imports\n",
    "import numpy as np\n",
    "import pandas as pd\n",
    "import matplotlib.pyplot as plt\n",
    "import seaborn as sns\n",
    "\n",
    "# Build the Regression / Regressor models\n",
    "\n",
    "from sklearn.linear_model import LinearRegression\n",
    "from sklearn.linear_model import Ridge,Lasso,ElasticNet\n",
    "from sklearn import linear_model\n",
    "from sklearn.tree import DecisionTreeRegressor\n",
    "from sklearn.ensemble import RandomForestRegressor,AdaBoostRegressor\n",
    "from sklearn.svm import SVR\n",
    "import xgboost as xgb \n",
    "from sklearn.neighbors import KNeighborsRegressor\n",
    "from sklearn.ensemble import ExtraTreesRegressor\n",
    "from sklearn.ensemble import BaggingRegressor\n",
    "from sklearn.ensemble import GradientBoostingRegressor\n",
    "from sklearn.model_selection import RandomizedSearchCV\n",
    "from sklearn.preprocessing import OneHotEncoder,StandardScaler\n",
    "from sklearn.compose import ColumnTransformer\n",
    "from sklearn.metrics import r2_score, mean_absolute_error, mean_squared_error\n",
    "import warnings"
   ]
  },
  {
   "cell_type": "code",
   "execution_count": 2,
   "id": "d820460f-c92a-4604-9eb5-212671edfbd7",
   "metadata": {},
   "outputs": [],
   "source": [
    "# importing dataset\n",
    "df = pd.read_csv('Clean_Dataset.csv')"
   ]
  },
  {
   "cell_type": "code",
   "execution_count": 3,
   "id": "25d54499-27b9-4764-8bbd-de7f7c84ffd2",
   "metadata": {},
   "outputs": [
    {
     "data": {
      "text/html": [
       "<div>\n",
       "<style scoped>\n",
       "    .dataframe tbody tr th:only-of-type {\n",
       "        vertical-align: middle;\n",
       "    }\n",
       "\n",
       "    .dataframe tbody tr th {\n",
       "        vertical-align: top;\n",
       "    }\n",
       "\n",
       "    .dataframe thead th {\n",
       "        text-align: right;\n",
       "    }\n",
       "</style>\n",
       "<table border=\"1\" class=\"dataframe\">\n",
       "  <thead>\n",
       "    <tr style=\"text-align: right;\">\n",
       "      <th></th>\n",
       "      <th>Unnamed: 0</th>\n",
       "      <th>airline</th>\n",
       "      <th>flight</th>\n",
       "      <th>source_city</th>\n",
       "      <th>departure_time</th>\n",
       "      <th>stops</th>\n",
       "      <th>arrival_time</th>\n",
       "      <th>destination_city</th>\n",
       "      <th>class</th>\n",
       "      <th>duration</th>\n",
       "      <th>days_left</th>\n",
       "      <th>price</th>\n",
       "    </tr>\n",
       "  </thead>\n",
       "  <tbody>\n",
       "    <tr>\n",
       "      <th>0</th>\n",
       "      <td>0</td>\n",
       "      <td>SpiceJet</td>\n",
       "      <td>SG-8709</td>\n",
       "      <td>Delhi</td>\n",
       "      <td>Evening</td>\n",
       "      <td>zero</td>\n",
       "      <td>Night</td>\n",
       "      <td>Mumbai</td>\n",
       "      <td>Economy</td>\n",
       "      <td>2.17</td>\n",
       "      <td>1</td>\n",
       "      <td>5953</td>\n",
       "    </tr>\n",
       "    <tr>\n",
       "      <th>1</th>\n",
       "      <td>1</td>\n",
       "      <td>SpiceJet</td>\n",
       "      <td>SG-8157</td>\n",
       "      <td>Delhi</td>\n",
       "      <td>Early_Morning</td>\n",
       "      <td>zero</td>\n",
       "      <td>Morning</td>\n",
       "      <td>Mumbai</td>\n",
       "      <td>Economy</td>\n",
       "      <td>2.33</td>\n",
       "      <td>1</td>\n",
       "      <td>5953</td>\n",
       "    </tr>\n",
       "    <tr>\n",
       "      <th>2</th>\n",
       "      <td>2</td>\n",
       "      <td>AirAsia</td>\n",
       "      <td>I5-764</td>\n",
       "      <td>Delhi</td>\n",
       "      <td>Early_Morning</td>\n",
       "      <td>zero</td>\n",
       "      <td>Early_Morning</td>\n",
       "      <td>Mumbai</td>\n",
       "      <td>Economy</td>\n",
       "      <td>2.17</td>\n",
       "      <td>1</td>\n",
       "      <td>5956</td>\n",
       "    </tr>\n",
       "    <tr>\n",
       "      <th>3</th>\n",
       "      <td>3</td>\n",
       "      <td>Vistara</td>\n",
       "      <td>UK-995</td>\n",
       "      <td>Delhi</td>\n",
       "      <td>Morning</td>\n",
       "      <td>zero</td>\n",
       "      <td>Afternoon</td>\n",
       "      <td>Mumbai</td>\n",
       "      <td>Economy</td>\n",
       "      <td>2.25</td>\n",
       "      <td>1</td>\n",
       "      <td>5955</td>\n",
       "    </tr>\n",
       "    <tr>\n",
       "      <th>4</th>\n",
       "      <td>4</td>\n",
       "      <td>Vistara</td>\n",
       "      <td>UK-963</td>\n",
       "      <td>Delhi</td>\n",
       "      <td>Morning</td>\n",
       "      <td>zero</td>\n",
       "      <td>Morning</td>\n",
       "      <td>Mumbai</td>\n",
       "      <td>Economy</td>\n",
       "      <td>2.33</td>\n",
       "      <td>1</td>\n",
       "      <td>5955</td>\n",
       "    </tr>\n",
       "  </tbody>\n",
       "</table>\n",
       "</div>"
      ],
      "text/plain": [
       "   Unnamed: 0   airline   flight source_city departure_time stops  \\\n",
       "0           0  SpiceJet  SG-8709       Delhi        Evening  zero   \n",
       "1           1  SpiceJet  SG-8157       Delhi  Early_Morning  zero   \n",
       "2           2   AirAsia   I5-764       Delhi  Early_Morning  zero   \n",
       "3           3   Vistara   UK-995       Delhi        Morning  zero   \n",
       "4           4   Vistara   UK-963       Delhi        Morning  zero   \n",
       "\n",
       "    arrival_time destination_city    class  duration  days_left  price  \n",
       "0          Night           Mumbai  Economy      2.17          1   5953  \n",
       "1        Morning           Mumbai  Economy      2.33          1   5953  \n",
       "2  Early_Morning           Mumbai  Economy      2.17          1   5956  \n",
       "3      Afternoon           Mumbai  Economy      2.25          1   5955  \n",
       "4        Morning           Mumbai  Economy      2.33          1   5955  "
      ]
     },
     "execution_count": 3,
     "metadata": {},
     "output_type": "execute_result"
    }
   ],
   "source": [
    "df.head(5)"
   ]
  },
  {
   "cell_type": "code",
   "execution_count": 4,
   "id": "82854f77-d7be-487a-890f-75e1e6c779f8",
   "metadata": {},
   "outputs": [
    {
     "name": "stdout",
     "output_type": "stream",
     "text": [
      "<class 'pandas.core.frame.DataFrame'>\n",
      "RangeIndex: 300153 entries, 0 to 300152\n",
      "Data columns (total 12 columns):\n",
      " #   Column            Non-Null Count   Dtype  \n",
      "---  ------            --------------   -----  \n",
      " 0   Unnamed: 0        300153 non-null  int64  \n",
      " 1   airline           300153 non-null  object \n",
      " 2   flight            300153 non-null  object \n",
      " 3   source_city       300153 non-null  object \n",
      " 4   departure_time    300153 non-null  object \n",
      " 5   stops             300153 non-null  object \n",
      " 6   arrival_time      300153 non-null  object \n",
      " 7   destination_city  300153 non-null  object \n",
      " 8   class             300153 non-null  object \n",
      " 9   duration          300153 non-null  float64\n",
      " 10  days_left         300153 non-null  int64  \n",
      " 11  price             300153 non-null  int64  \n",
      "dtypes: float64(1), int64(3), object(8)\n",
      "memory usage: 27.5+ MB\n"
     ]
    }
   ],
   "source": [
    "df.info()"
   ]
  },
  {
   "cell_type": "code",
   "execution_count": 5,
   "id": "20c82135-0704-4032-914c-ec67cf391ed8",
   "metadata": {},
   "outputs": [],
   "source": [
    "# dropping columns 'Unnamed: 0' and 'flights'\n",
    "df.drop(['Unnamed: 0','flight'],axis=1,inplace=True)"
   ]
  },
  {
   "cell_type": "code",
   "execution_count": 6,
   "id": "a62b531f-ab4f-42c3-9cd1-ce0c37e6dcea",
   "metadata": {},
   "outputs": [],
   "source": [
    "# # storing the Dependent Variables in X and Independent Variable in Y\n",
    "X = df.drop(['price'],axis=1)"
   ]
  },
  {
   "cell_type": "code",
   "execution_count": 7,
   "id": "5100c4f6-d039-4c7a-902f-55c12737ef40",
   "metadata": {},
   "outputs": [
    {
     "data": {
      "text/html": [
       "<div>\n",
       "<style scoped>\n",
       "    .dataframe tbody tr th:only-of-type {\n",
       "        vertical-align: middle;\n",
       "    }\n",
       "\n",
       "    .dataframe tbody tr th {\n",
       "        vertical-align: top;\n",
       "    }\n",
       "\n",
       "    .dataframe thead th {\n",
       "        text-align: right;\n",
       "    }\n",
       "</style>\n",
       "<table border=\"1\" class=\"dataframe\">\n",
       "  <thead>\n",
       "    <tr style=\"text-align: right;\">\n",
       "      <th></th>\n",
       "      <th>airline</th>\n",
       "      <th>source_city</th>\n",
       "      <th>departure_time</th>\n",
       "      <th>stops</th>\n",
       "      <th>arrival_time</th>\n",
       "      <th>destination_city</th>\n",
       "      <th>class</th>\n",
       "      <th>duration</th>\n",
       "      <th>days_left</th>\n",
       "    </tr>\n",
       "  </thead>\n",
       "  <tbody>\n",
       "    <tr>\n",
       "      <th>0</th>\n",
       "      <td>SpiceJet</td>\n",
       "      <td>Delhi</td>\n",
       "      <td>Evening</td>\n",
       "      <td>zero</td>\n",
       "      <td>Night</td>\n",
       "      <td>Mumbai</td>\n",
       "      <td>Economy</td>\n",
       "      <td>2.17</td>\n",
       "      <td>1</td>\n",
       "    </tr>\n",
       "    <tr>\n",
       "      <th>1</th>\n",
       "      <td>SpiceJet</td>\n",
       "      <td>Delhi</td>\n",
       "      <td>Early_Morning</td>\n",
       "      <td>zero</td>\n",
       "      <td>Morning</td>\n",
       "      <td>Mumbai</td>\n",
       "      <td>Economy</td>\n",
       "      <td>2.33</td>\n",
       "      <td>1</td>\n",
       "    </tr>\n",
       "    <tr>\n",
       "      <th>2</th>\n",
       "      <td>AirAsia</td>\n",
       "      <td>Delhi</td>\n",
       "      <td>Early_Morning</td>\n",
       "      <td>zero</td>\n",
       "      <td>Early_Morning</td>\n",
       "      <td>Mumbai</td>\n",
       "      <td>Economy</td>\n",
       "      <td>2.17</td>\n",
       "      <td>1</td>\n",
       "    </tr>\n",
       "    <tr>\n",
       "      <th>3</th>\n",
       "      <td>Vistara</td>\n",
       "      <td>Delhi</td>\n",
       "      <td>Morning</td>\n",
       "      <td>zero</td>\n",
       "      <td>Afternoon</td>\n",
       "      <td>Mumbai</td>\n",
       "      <td>Economy</td>\n",
       "      <td>2.25</td>\n",
       "      <td>1</td>\n",
       "    </tr>\n",
       "    <tr>\n",
       "      <th>4</th>\n",
       "      <td>Vistara</td>\n",
       "      <td>Delhi</td>\n",
       "      <td>Morning</td>\n",
       "      <td>zero</td>\n",
       "      <td>Morning</td>\n",
       "      <td>Mumbai</td>\n",
       "      <td>Economy</td>\n",
       "      <td>2.33</td>\n",
       "      <td>1</td>\n",
       "    </tr>\n",
       "  </tbody>\n",
       "</table>\n",
       "</div>"
      ],
      "text/plain": [
       "    airline source_city departure_time stops   arrival_time destination_city  \\\n",
       "0  SpiceJet       Delhi        Evening  zero          Night           Mumbai   \n",
       "1  SpiceJet       Delhi  Early_Morning  zero        Morning           Mumbai   \n",
       "2   AirAsia       Delhi  Early_Morning  zero  Early_Morning           Mumbai   \n",
       "3   Vistara       Delhi        Morning  zero      Afternoon           Mumbai   \n",
       "4   Vistara       Delhi        Morning  zero        Morning           Mumbai   \n",
       "\n",
       "     class  duration  days_left  \n",
       "0  Economy      2.17          1  \n",
       "1  Economy      2.33          1  \n",
       "2  Economy      2.17          1  \n",
       "3  Economy      2.25          1  \n",
       "4  Economy      2.33          1  "
      ]
     },
     "execution_count": 7,
     "metadata": {},
     "output_type": "execute_result"
    }
   ],
   "source": [
    "X.head()"
   ]
  },
  {
   "cell_type": "code",
   "execution_count": 8,
   "id": "a0de73ea-cf3c-430e-bae0-edfef81d2bff",
   "metadata": {},
   "outputs": [
    {
     "name": "stdout",
     "output_type": "stream",
     "text": [
      "<class 'pandas.core.frame.DataFrame'>\n",
      "RangeIndex: 300153 entries, 0 to 300152\n",
      "Data columns (total 9 columns):\n",
      " #   Column            Non-Null Count   Dtype  \n",
      "---  ------            --------------   -----  \n",
      " 0   airline           300153 non-null  object \n",
      " 1   source_city       300153 non-null  object \n",
      " 2   departure_time    300153 non-null  object \n",
      " 3   stops             300153 non-null  object \n",
      " 4   arrival_time      300153 non-null  object \n",
      " 5   destination_city  300153 non-null  object \n",
      " 6   class             300153 non-null  object \n",
      " 7   duration          300153 non-null  float64\n",
      " 8   days_left         300153 non-null  int64  \n",
      "dtypes: float64(1), int64(1), object(7)\n",
      "memory usage: 20.6+ MB\n"
     ]
    }
   ],
   "source": [
    "X.info()"
   ]
  },
  {
   "cell_type": "code",
   "execution_count": 9,
   "id": "1b201a94-1f5f-4df7-bd56-2ed98f9e53a4",
   "metadata": {},
   "outputs": [],
   "source": [
    "y = df['price']"
   ]
  },
  {
   "cell_type": "code",
   "execution_count": 10,
   "id": "04968151-1d4e-49d1-bfbb-83262a320c8a",
   "metadata": {},
   "outputs": [
    {
     "data": {
      "text/plain": [
       "0          5953\n",
       "1          5953\n",
       "2          5956\n",
       "3          5955\n",
       "4          5955\n",
       "          ...  \n",
       "300148    69265\n",
       "300149    77105\n",
       "300150    79099\n",
       "300151    81585\n",
       "300152    81585\n",
       "Name: price, Length: 300153, dtype: int64"
      ]
     },
     "execution_count": 10,
     "metadata": {},
     "output_type": "execute_result"
    }
   ],
   "source": [
    "y"
   ]
  },
  {
   "cell_type": "code",
   "execution_count": 11,
   "id": "853ec91d-ee68-4eba-b094-4d75f9d695cc",
   "metadata": {},
   "outputs": [],
   "source": [
    "# identifying numerical and categorical features\n",
    "num_features = X.select_dtypes(exclude=\"object\").columns\n",
    "cat_features = X.select_dtypes(include=\"object\").columns"
   ]
  },
  {
   "cell_type": "code",
   "execution_count": 12,
   "id": "a3859e7b-cba7-4680-ae53-cbbd05cee2f7",
   "metadata": {},
   "outputs": [
    {
     "data": {
      "text/plain": [
       "Index(['duration', 'days_left'], dtype='object')"
      ]
     },
     "execution_count": 12,
     "metadata": {},
     "output_type": "execute_result"
    }
   ],
   "source": [
    "num_features"
   ]
  },
  {
   "cell_type": "code",
   "execution_count": 13,
   "id": "95f2186f-eeca-418f-b932-b97a076f93cc",
   "metadata": {},
   "outputs": [
    {
     "data": {
      "text/plain": [
       "Index(['airline', 'source_city', 'departure_time', 'stops', 'arrival_time',\n",
       "       'destination_city', 'class'],\n",
       "      dtype='object')"
      ]
     },
     "execution_count": 13,
     "metadata": {},
     "output_type": "execute_result"
    }
   ],
   "source": [
    "cat_features"
   ]
  },
  {
   "cell_type": "code",
   "execution_count": 14,
   "id": "0c6cca26-b59e-4782-9c35-c5532b94c26f",
   "metadata": {},
   "outputs": [
    {
     "name": "stdout",
     "output_type": "stream",
     "text": [
      "Categories in 'airline' variable:      ['SpiceJet' 'AirAsia' 'Vistara' 'GO_FIRST' 'Indigo' 'Air_India']\n",
      "Categories in 'source_city' variable:   ['Delhi' 'Mumbai' 'Bangalore' 'Kolkata' 'Hyderabad' 'Chennai']\n",
      "Categories in'departure_time' variable: ['Evening' 'Early_Morning' 'Morning' 'Afternoon' 'Night' 'Late_Night']\n",
      "Categories in 'stops' variable:      ['zero' 'one' 'two_or_more']\n",
      "Categories in 'arrival_time' variable:      ['Night' 'Morning' 'Early_Morning' 'Afternoon' 'Evening' 'Late_Night']\n",
      "Categories in 'destination_city' variable:      ['Night' 'Morning' 'Early_Morning' 'Afternoon' 'Evening' 'Late_Night']\n",
      "Categories in 'class' variable:      ['Night' 'Morning' 'Early_Morning' 'Afternoon' 'Evening' 'Late_Night']\n"
     ]
    }
   ],
   "source": [
    "print(\"Categories in 'airline' variable:     \",end=\" \" )\n",
    "print(df['airline'].unique())\n",
    "\n",
    "print(\"Categories in 'source_city' variable:  \",end=\" \")\n",
    "print(df['source_city'].unique())\n",
    "\n",
    "print(\"Categories in'departure_time' variable:\",end=\" \" )\n",
    "print(df['departure_time'].unique())\n",
    "\n",
    "print(\"Categories in 'stops' variable:     \",end=\" \" )\n",
    "print(df['stops'].unique())\n",
    "\n",
    "print(\"Categories in 'arrival_time' variable:     \",end=\" \" )\n",
    "print(df['arrival_time'].unique())\n",
    "\n",
    "print(\"Categories in 'destination_city' variable:     \",end=\" \" )\n",
    "print(df['arrival_time'].unique())\n",
    "\n",
    "print(\"Categories in 'class' variable:     \",end=\" \" )\n",
    "print(df['arrival_time'].unique())"
   ]
  },
  {
   "cell_type": "code",
   "execution_count": 15,
   "id": "d607910a-53a3-4dbd-a8bb-e44ad1c289a6",
   "metadata": {},
   "outputs": [],
   "source": [
    "# Create column transformer with 3 types of transformers\n",
    "numerical_transformer = StandardScaler()\n",
    "categorical_transformer = OneHotEncoder()\n",
    "\n",
    "preprocessor= ColumnTransformer(\n",
    "    [\n",
    "        ('StandardScaler',numerical_transformer,num_features),\n",
    "        ('OneHotEncoding',categorical_transformer,cat_features)\n",
    "    ]\n",
    ")"
   ]
  },
  {
   "cell_type": "code",
   "execution_count": 16,
   "id": "c47e643e-b4dd-4b67-a434-59aae12cc908",
   "metadata": {},
   "outputs": [],
   "source": [
    "X = preprocessor.fit_transform(X)"
   ]
  },
  {
   "cell_type": "code",
   "execution_count": 17,
   "id": "7f7048d7-7d44-4260-84fa-9865c6a892da",
   "metadata": {},
   "outputs": [
    {
     "data": {
      "text/plain": [
       "(300153, 37)"
      ]
     },
     "execution_count": 17,
     "metadata": {},
     "output_type": "execute_result"
    }
   ],
   "source": [
    "X.shape"
   ]
  },
  {
   "cell_type": "code",
   "execution_count": 18,
   "id": "da706f47-c9b7-47ad-9bc6-741cc5f5994f",
   "metadata": {},
   "outputs": [
    {
     "name": "stdout",
     "output_type": "stream",
     "text": [
      "shape of X_train : (210107, 37)\n",
      "shape of X_test : (90046, 37)\n",
      "shape of y_train : (210107,)\n",
      "shape of y_test : (90046,)\n"
     ]
    }
   ],
   "source": [
    "# Splitting the Data into Training set and Testing Set\n",
    "\n",
    "from sklearn.model_selection import train_test_split\n",
    "X_train,X_test,y_train,y_test=train_test_split(X,y,test_size=0.30,random_state=42)\n",
    "\n",
    "print('shape of X_train : {}'.format(X_train.shape))\n",
    "print('shape of X_test : {}'.format(X_test.shape))\n",
    "print('shape of y_train : {}'.format(y_train.shape))\n",
    "print('shape of y_test : {}'.format(y_test.shape))"
   ]
  },
  {
   "cell_type": "markdown",
   "id": "9d04bbfc-4934-4e44-b605-38117a17a96d",
   "metadata": {},
   "source": [
    "### Creating an 'evaluate' Function to give all metrics after model Training"
   ]
  },
  {
   "cell_type": "code",
   "execution_count": 19,
   "id": "f61b2e19-bb13-4b11-81eb-fdf5b1e4e545",
   "metadata": {},
   "outputs": [],
   "source": [
    "def evaluate_model(true,predicted):\n",
    "    mse = mean_squared_error(true,predicted)\n",
    "    mae = mean_absolute_error(true,predicted)\n",
    "    rmse = np.sqrt(mean_squared_error(true,predicted))\n",
    "    r2_scr = r2_score(true,predicted)\n",
    "    return mse,mae,rmse,r2_scr"
   ]
  },
  {
   "cell_type": "code",
   "execution_count": 20,
   "id": "dd8eec1d-76f6-4194-8697-07bc1d2299c4",
   "metadata": {},
   "outputs": [
    {
     "name": "stdout",
     "output_type": "stream",
     "text": [
      "Linear Regression\n",
      "Model performance for Training set\n",
      "- Mean Squared Error: 45642721.2085\n",
      "- Root Mean Squared Error: 6755.9397\n",
      "- Mean Absolute Error: 4578.8899\n",
      "- R2 Score: 0.9114\n",
      "----------------------------------\n",
      "Model performance for Test set\n",
      "- Mean Squared Error: 45560814.8644\n",
      "- Root Mean Squared Error: 6749.8752\n",
      "- Mean Absolute Error: 4555.2318\n",
      "- R2 Score: 0.9115\n",
      "===================================\n",
      "\n",
      "\n",
      "Lasso\n",
      "Model performance for Training set\n",
      "- Mean Squared Error: 45643265.3640\n",
      "- Root Mean Squared Error: 6755.9800\n",
      "- Mean Absolute Error: 4577.0852\n",
      "- R2 Score: 0.9114\n",
      "----------------------------------\n",
      "Model performance for Test set\n",
      "- Mean Squared Error: 45561763.7489\n",
      "- Root Mean Squared Error: 6749.9455\n",
      "- Mean Absolute Error: 4553.4405\n",
      "- R2 Score: 0.9115\n",
      "===================================\n",
      "\n",
      "\n",
      "Ridge\n",
      "Model performance for Training set\n",
      "- Mean Squared Error: 45642726.9565\n",
      "- Root Mean Squared Error: 6755.9401\n",
      "- Mean Absolute Error: 4578.8106\n",
      "- R2 Score: 0.9114\n",
      "----------------------------------\n",
      "Model performance for Test set\n",
      "- Mean Squared Error: 45560793.9384\n",
      "- Root Mean Squared Error: 6749.8736\n",
      "- Mean Absolute Error: 4555.1562\n",
      "- R2 Score: 0.9115\n",
      "===================================\n",
      "\n",
      "\n",
      "Elastic Net\n",
      "Model performance for Training set\n",
      "- Mean Squared Error: 170451409.5702\n",
      "- Root Mean Squared Error: 13055.7041\n",
      "- Mean Absolute Error: 10533.7241\n",
      "- R2 Score: 0.6693\n",
      "----------------------------------\n",
      "Model performance for Test set\n",
      "- Mean Squared Error: 169546400.1046\n",
      "- Root Mean Squared Error: 13020.9984\n",
      "- Mean Absolute Error: 10501.5935\n",
      "- R2 Score: 0.6706\n",
      "===================================\n",
      "\n",
      "\n",
      "K-Neighbors Regressor\n",
      "Model performance for Training set\n",
      "- Mean Squared Error: 9191949.4142\n",
      "- Root Mean Squared Error: 3031.8228\n",
      "- Mean Absolute Error: 1446.5865\n",
      "- R2 Score: 0.9822\n",
      "----------------------------------\n",
      "Model performance for Test set\n",
      "- Mean Squared Error: 14637061.1328\n",
      "- Root Mean Squared Error: 3825.8412\n",
      "- Mean Absolute Error: 1850.1320\n",
      "- R2 Score: 0.9716\n",
      "===================================\n",
      "\n",
      "\n",
      "Decision Tree\n",
      "Model performance for Training set\n",
      "- Mean Squared Error: 6706820.2423\n",
      "- Root Mean Squared Error: 2589.7529\n",
      "- Mean Absolute Error: 1164.0626\n",
      "- R2 Score: 0.9870\n",
      "----------------------------------\n",
      "Model performance for Test set\n",
      "- Mean Squared Error: 9075640.5680\n",
      "- Root Mean Squared Error: 3012.5804\n",
      "- Mean Absolute Error: 1342.9925\n",
      "- R2 Score: 0.9824\n",
      "===================================\n",
      "\n",
      "\n",
      "Bagging Regressor\n",
      "Model performance for Training set\n",
      "- Mean Squared Error: 1598684.2718\n",
      "- Root Mean Squared Error: 1264.3909\n",
      "- Mean Absolute Error: 451.2611\n",
      "- R2 Score: 0.9969\n",
      "----------------------------------\n",
      "Model performance for Test set\n",
      "- Mean Squared Error: 8397735.4154\n",
      "- Root Mean Squared Error: 2897.8846\n",
      "- Mean Absolute Error: 1129.2881\n",
      "- R2 Score: 0.9837\n",
      "===================================\n",
      "\n",
      "\n"
     ]
    }
   ],
   "source": [
    "models = {\n",
    "    \"Linear Regression\": LinearRegression(),\n",
    "    \"Lasso\": Lasso(),\n",
    "    \"Ridge\": Ridge(),\n",
    "    \"Elastic Net\": ElasticNet(),\n",
    "    \"K-Neighbors Regressor\": KNeighborsRegressor(n_neighbors=5),\n",
    "    \"Decision Tree\": DecisionTreeRegressor(max_depth=100, min_samples_split=30, min_samples_leaf=10,random_state=42),\n",
    "    \"Bagging Regressor\": BaggingRegressor(n_jobs=-1)\n",
    "}\n",
    "\n",
    "model_list = []\n",
    "r2_list = []\n",
    "\n",
    "for i in range(len(list(models))):\n",
    "    model = list(models.values())[i]\n",
    "    model.fit(X_train,y_train)  # train model\n",
    "\n",
    "    # make prediction\n",
    "    y_train_pred = model.predict(X_train)\n",
    "    y_test_pred = model.predict(X_test)\n",
    "\n",
    "    # evaluate train and test dataset\n",
    "    model_train_mse, model_train_mae, model_train_rmse, model_train_r2 = evaluate_model(y_train,y_train_pred)\n",
    "    model_test_mse, model_test_mae, model_test_rmse, model_test_r2 = evaluate_model(y_test, y_test_pred)\n",
    "\n",
    "    print(list(models.keys())[i])\n",
    "    model_list.append(list(models.keys())[i])\n",
    "\n",
    "    print('Model performance for Training set')\n",
    "    print(\"- Mean Squared Error: {:.4f}\".format(model_train_mse))\n",
    "    print(\"- Root Mean Squared Error: {:.4f}\".format(model_train_rmse))\n",
    "    print(\"- Mean Absolute Error: {:.4f}\".format(model_train_mae))\n",
    "    print(\"- R2 Score: {:.4f}\".format(model_train_r2))\n",
    "\n",
    "    print('----------------------------------')\n",
    "    \n",
    "    print('Model performance for Test set')\n",
    "    print(\"- Mean Squared Error: {:.4f}\".format(model_test_mse))\n",
    "    print(\"- Root Mean Squared Error: {:.4f}\".format(model_test_rmse))\n",
    "    print(\"- Mean Absolute Error: {:.4f}\".format(model_test_mae))\n",
    "    print(\"- R2 Score: {:.4f}\".format(model_test_r2))\n",
    "    r2_list.append(model_test_r2)\n",
    "    \n",
    "    print('='*35)\n",
    "    print('\\n')\n"
   ]
  },
  {
   "cell_type": "markdown",
   "id": "c577a8e4-9179-416c-85a2-1672ace41e8e",
   "metadata": {},
   "source": [
    "# Results"
   ]
  },
  {
   "cell_type": "code",
   "execution_count": 21,
   "id": "bb59f4cb-8833-4936-a5bd-c1690f47f262",
   "metadata": {},
   "outputs": [
    {
     "data": {
      "text/plain": [
       "<bound method DataFrame.sort_values of               Model Name  R2_Score\n",
       "0      Linear Regression  0.911475\n",
       "1                  Lasso  0.911473\n",
       "2                  Ridge  0.911475\n",
       "3            Elastic Net  0.670570\n",
       "4  K-Neighbors Regressor  0.971560\n",
       "5          Decision Tree  0.982366\n",
       "6      Bagging Regressor  0.983683>"
      ]
     },
     "execution_count": 21,
     "metadata": {},
     "output_type": "execute_result"
    }
   ],
   "source": [
    "pd.DataFrame(list(zip(model_list, r2_list)), columns=['Model Name', 'R2_Score']).sort_values"
   ]
  },
  {
   "cell_type": "markdown",
   "id": "9d650474-b423-41cc-adc0-c9cd84c65ead",
   "metadata": {},
   "source": [
    "# Linear Regression"
   ]
  },
  {
   "cell_type": "code",
   "execution_count": 22,
   "id": "28998d96-d5dc-4b4a-97bb-8201c7c596f5",
   "metadata": {},
   "outputs": [
    {
     "name": "stdout",
     "output_type": "stream",
     "text": [
      " Accuracy of the model is 91.15\n"
     ]
    }
   ],
   "source": [
    "lin_model = LinearRegression(fit_intercept=True)\n",
    "lin_model = lin_model.fit(X_train, y_train)\n",
    "y_pred = lin_model.predict(X_test)\n",
    "score = r2_score(y_test, y_pred)*100\n",
    "print(\" Accuracy of the model is %.2f\" %score)"
   ]
  },
  {
   "cell_type": "markdown",
   "id": "601ec6a3-6a9d-4ce5-960b-0830335a4d39",
   "metadata": {},
   "source": [
    "# Plot y_pred and y_test"
   ]
  },
  {
   "cell_type": "code",
   "execution_count": 23,
   "id": "d8e6891f-4be6-43bd-bcd1-a7d367130e0e",
   "metadata": {},
   "outputs": [
    {
     "data": {
      "image/png": "[encoded data removed]",
      "text/plain": [
       "<Figure size 640x480 with 1 Axes>"
      ]
     },
     "metadata": {},
     "output_type": "display_data"
    }
   ],
   "source": [
    "plt.scatter(y_test,y_pred);\n",
    "plt.xlabel('Actual');\n",
    "plt.ylabel('Predicted');"
   ]
  },
  {
   "cell_type": "code",
   "execution_count": 24,
   "id": "cb3f505a-4df7-4b6d-81ba-64142c90f109",
   "metadata": {},
   "outputs": [
    {
     "data": {
      "image/png": "[encoded data removed]",
      "text/plain": [
       "<Figure size 640x480 with 1 Axes>"
      ]
     },
     "metadata": {},
     "output_type": "display_data"
    }
   ],
   "source": [
    "sns.regplot(x=y_test,y=y_pred,ci=None,color ='red');"
   ]
  },
  {
   "cell_type": "code",
   "execution_count": null,
   "id": "c90de6af-6601-4b3c-9571-91410e3ca7bd",
   "metadata": {},
   "outputs": [],
   "source": []
  }
 ],
 "metadata": {
  "kernelspec": {
   "display_name": "Python 3 (ipykernel)",
   "language": "python",
   "name": "python3"
  },
  "language_info": {
   "codemirror_mode": {
    "name": "ipython",
    "version": 3
   },
   "file_extension": ".py",
   "mimetype": "text/x-python",
   "name": "python",
   "nbconvert_exporter": "python",
   "pygments_lexer": "ipython3",
   "version": "3.11.7"
  }
 },
 "nbformat": 4,
 "nbformat_minor": 5
}
